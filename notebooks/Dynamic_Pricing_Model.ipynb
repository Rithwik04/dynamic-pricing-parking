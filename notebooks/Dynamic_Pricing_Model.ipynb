{
 "cells": [
  {
   "cell_type": "markdown",
   "id": "b2353fd0",
   "metadata": {},
   "source": [
    "# 📒 Dynamic Pricing for Urban Parking Lots\n",
    "\n",
    "Capstone Project – Summer Analytics 2025\n",
    "\n",
    "**Consulting & Analytics Club × Pathway**"
   ]
  },
  {
   "cell_type": "code",
   "execution_count": null,
   "id": "bc63027e",
   "metadata": {},
   "outputs": [],
   "source": [
    "\n",
    "import pandas as pd\n",
    "import numpy as np\n",
    "from bokeh.plotting import figure, output_notebook, show\n",
    "from bokeh.io import push_notebook\n",
    "from src.model_baseline import linear_pricing\n",
    "from src.model_demand import demand_pricing\n",
    "from src.model_competition import competitive_pricing\n",
    "\n",
    "output_notebook()\n"
   ]
  },
  {
   "cell_type": "markdown",
   "id": "9c437443",
   "metadata": {},
   "source": [
    "## 📥 Load Dataset"
   ]
  },
  {
   "cell_type": "code",
   "execution_count": null,
   "id": "59764527",
   "metadata": {},
   "outputs": [],
   "source": [
    "\n",
    "df = pd.read_csv('data/dataset.csv')\n",
    "df.head()\n"
   ]
  },
  {
   "cell_type": "markdown",
   "id": "7b74c0f9",
   "metadata": {},
   "source": [
    "## 🔄 Simulate Real-Time Data Stream"
   ]
  },
  {
   "cell_type": "code",
   "execution_count": null,
   "id": "ef6902b8",
   "metadata": {},
   "outputs": [],
   "source": [
    "\n",
    "import time\n",
    "\n",
    "# Simulate one parking lot\n",
    "lot_code = df['SystemCodeNumber'].unique()[0]\n",
    "lot_data = df[df['SystemCodeNumber'] == lot_code].reset_index(drop=True)\n",
    "\n",
    "# Initialize price\n",
    "current_price = 10.0\n",
    "prices = []\n",
    "timestamps = []\n"
   ]
  },
  {
   "cell_type": "code",
   "execution_count": null,
   "id": "dda383df",
   "metadata": {},
   "outputs": [],
   "source": [
    "\n",
    "for idx, row in lot_data.iterrows():\n",
    "    occupancy = row['Occupancy']\n",
    "    capacity = row['Capacity']\n",
    "    queue = row['QueueLength']\n",
    "    traffic = row['TrafficConditionNearby']\n",
    "    special = row['IsSpecialDay']\n",
    "    vehicle = row['VehicleType']\n",
    "\n",
    "    vehicle_weight = {'car': 0.5, 'bike': 0.2, 'truck': 0.8}.get(vehicle, 0.5)\n",
    "\n",
    "    # Choose a model (example: demand-based)\n",
    "    price = demand_pricing(\n",
    "        occupancy, capacity, queue, traffic, special, vehicle_weight\n",
    "    )\n",
    "\n",
    "    prices.append(price)\n",
    "    timestamps.append(f\"{row['LastUpdatedDate']} {row['LastUpdatedTime']}\")\n",
    "\n",
    "    current_price = price\n",
    "\n",
    "    # Optional delay to simulate real-time\n",
    "    # time.sleep(0.1)\n"
   ]
  },
  {
   "cell_type": "markdown",
   "id": "eb7bb92e",
   "metadata": {},
   "source": [
    "## 📊 Real-Time Visualization with Bokeh"
   ]
  },
  {
   "cell_type": "code",
   "execution_count": null,
   "id": "94f27953",
   "metadata": {},
   "outputs": [],
   "source": [
    "\n",
    "from bokeh.models import ColumnDataSource\n",
    "\n",
    "source = ColumnDataSource(data=dict(time=timestamps, price=prices))\n",
    "\n",
    "p = figure(x_range=timestamps, height=400, width=800, title=\"Dynamic Pricing Over Time\", x_axis_label='Time', y_axis_label='Price ($)', x_axis_type='auto')\n",
    "p.line('time', 'price', source=source, line_width=2)\n",
    "\n",
    "show(p)\n"
   ]
  },
  {
   "cell_type": "markdown",
   "id": "a699699f",
   "metadata": {},
   "source": [
    "✅ This notebook demonstrates the dynamic pricing engine with real-time simulation and visualization. You can extend it to include competitive pricing and rerouting suggestions."
   ]
  }
 ],
 "metadata": {},
 "nbformat": 4,
 "nbformat_minor": 5
}
